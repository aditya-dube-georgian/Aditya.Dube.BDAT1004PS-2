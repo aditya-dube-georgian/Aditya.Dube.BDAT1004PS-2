{
 "cells": [
  {
   "cell_type": "markdown",
   "id": "dceb7fb4",
   "metadata": {},
   "source": [
    "<h1> Answer 1</h1>"
   ]
  },
  {
   "cell_type": "code",
   "execution_count": 1,
   "id": "28d3a7d8",
   "metadata": {},
   "outputs": [],
   "source": [
    "a = 0\n",
    "def b():\n",
    " global a\n",
    " a = c(a)\n",
    "def c(a):\n",
    " return a + 2\n"
   ]
  },
  {
   "cell_type": "code",
   "execution_count": 2,
   "id": "aa73fbb5",
   "metadata": {},
   "outputs": [
    {
     "data": {
      "text/plain": [
       "6"
      ]
     },
     "execution_count": 2,
     "metadata": {},
     "output_type": "execute_result"
    }
   ],
   "source": [
    ">>> b()\n",
    ">>> b()\n",
    ">>> b()\n",
    ">>> a"
   ]
  },
  {
   "cell_type": "markdown",
   "id": "62a2ac86",
   "metadata": {},
   "source": [
    "The value displayed will be 6, because a has been updated three times by calling b(), and each time a was increased by 2. So, a ends up being 6."
   ]
  },
  {
   "cell_type": "markdown",
   "id": "7153a904",
   "metadata": {},
   "source": [
    "<h1> Answer 2</h1>"
   ]
  },
  {
   "cell_type": "code",
   "execution_count": 3,
   "id": "4cf996a9",
   "metadata": {},
   "outputs": [
    {
     "name": "stdout",
     "output_type": "stream",
     "text": [
      "File midterm.py not found.\n",
      "File idterm.py not found.\n"
     ]
    }
   ],
   "source": [
    "def fileLength(filename):\n",
    "    try:\n",
    "        infile = open(filename)\n",
    "        content = infile.read()\n",
    "        infile.close()\n",
    "        return len(content)\n",
    "    except FileNotFoundError:\n",
    "        print(\"File\", filename, \"not found.\")\n",
    "\n",
    "fileLength('midterm.py')\n",
    "fileLength('idterm.py')\n"
   ]
  },
  {
   "cell_type": "markdown",
   "id": "784bc1cb",
   "metadata": {},
   "source": [
    "<h1> Answer 3</h1>"
   ]
  },
  {
   "cell_type": "code",
   "execution_count": 4,
   "id": "06120089",
   "metadata": {},
   "outputs": [],
   "source": [
    "class Marsupial:\n",
    "    def __init__(self):\n",
    "        self.pouch = []\n",
    "\n",
    "    def put_in_pouch(self, item):\n",
    "        self.pouch.append(item)\n",
    "\n",
    "    def pouch_contents(self):\n",
    "        return self.pouch\n",
    "\n",
    "\n",
    "class Kangaroo(Marsupial):\n",
    "    def __init__(self, x, y):\n",
    "        super().__init__()\n",
    "        self.x = x\n",
    "        self.y = y\n",
    "\n",
    "    def jump(self, dx, dy):\n",
    "        self.x += dx\n",
    "        self.y += dy\n",
    "\n",
    "    def __str__(self):\n",
    "        return f\"I am a Kangaroo located at coordinates ({self.x},{self.y})\""
   ]
  },
  {
   "cell_type": "code",
   "execution_count": 5,
   "id": "85cee69a",
   "metadata": {},
   "outputs": [
    {
     "name": "stdout",
     "output_type": "stream",
     "text": [
      "['doll', 'firetruck', 'kitten']\n"
     ]
    }
   ],
   "source": [
    "# Testing Marsupial class\n",
    "m = Marsupial()\n",
    "m.put_in_pouch('doll')\n",
    "m.put_in_pouch('firetruck')\n",
    "m.put_in_pouch('kitten')\n",
    "print(m.pouch_contents())\n"
   ]
  },
  {
   "cell_type": "code",
   "execution_count": 6,
   "id": "06ca81d2",
   "metadata": {},
   "outputs": [
    {
     "name": "stdout",
     "output_type": "stream",
     "text": [
      "I am a Kangaroo located at coordinates (0,0)\n",
      "['doll', 'firetruck', 'kitten']\n",
      "I am a Kangaroo located at coordinates (3,0)\n"
     ]
    }
   ],
   "source": [
    "# Testing Kangaroo subclass\n",
    "k = Kangaroo(0, 0)\n",
    "print(k)\n",
    "k.put_in_pouch('doll')\n",
    "k.put_in_pouch('firetruck')\n",
    "k.put_in_pouch('kitten')\n",
    "print(k.pouch_contents())\n",
    "k.jump(1, 0)\n",
    "k.jump(1, 0)\n",
    "k.jump(1, 0)\n",
    "print(k)\n"
   ]
  },
  {
   "cell_type": "markdown",
   "id": "0b4276c1",
   "metadata": {},
   "source": [
    "<h1> Answer 4</h1>"
   ]
  },
  {
   "cell_type": "code",
   "execution_count": 7,
   "id": "a36e78cf",
   "metadata": {},
   "outputs": [
    {
     "name": "stdout",
     "output_type": "stream",
     "text": [
      "10\n",
      "5\n",
      "16\n",
      "8\n",
      "4\n",
      "2\n",
      "1\n"
     ]
    }
   ],
   "source": [
    "def collatz(num):\n",
    "    \n",
    "    if num== 1:\n",
    "        print(int(num))\n",
    "        \n",
    "    elif num%2 == 0:\n",
    "            print(int(num))\n",
    "            return collatz(num/2)\n",
    "            \n",
    "    else:\n",
    "            print(int(num))\n",
    "            collatz((3*num) + 1)\n",
    "            \n",
    "collatz(10)"
   ]
  },
  {
   "cell_type": "markdown",
   "id": "e3ad8c03",
   "metadata": {},
   "source": [
    "<h1> Answer 5</h1>"
   ]
  },
  {
   "cell_type": "code",
   "execution_count": 8,
   "id": "01d31bcf",
   "metadata": {},
   "outputs": [
    {
     "name": "stdout",
     "output_type": "stream",
     "text": [
      "0\n",
      "1\n",
      "11\n",
      "1001\n"
     ]
    }
   ],
   "source": [
    "def binary(n):\n",
    "    if n == 0:\n",
    "        return \"0\"\n",
    "    elif n == 1:\n",
    "        return \"1\"\n",
    "    else:\n",
    "        return binary(n // 2) + str(n % 2)\n",
    "\n",
    "# Test cases\n",
    "print(binary(0))\n",
    "print(binary(1))\n",
    "print(binary(3))\n",
    "print(binary(9))\n"
   ]
  },
  {
   "cell_type": "markdown",
   "id": "6fc05351",
   "metadata": {},
   "source": [
    "<h1> Answer 6</h1>"
   ]
  },
  {
   "cell_type": "code",
   "execution_count": 9,
   "id": "b8410a89",
   "metadata": {},
   "outputs": [],
   "source": [
    "from html.parser import HTMLParser\n",
    "\n",
    "class HeadingParser(HTMLParser):\n",
    "    def __init__(self):\n",
    "        super().__init__()\n",
    "        self.in_heading = False\n",
    "        self.heading_level = 0\n",
    "\n",
    "    def handle_starttag(self, tag, attrs):\n",
    "        if tag.startswith('h') and len(tag) == 2:\n",
    "            self.in_heading = True\n",
    "            self.heading_level = int(tag[1])\n",
    "\n",
    "    def handle_endtag(self, tag):\n",
    "        if tag.startswith('h') and len(tag) == 2:\n",
    "            self.in_heading = False\n",
    "\n",
    "    def handle_data(self, data):\n",
    "        if self.in_heading:\n",
    "            print(' ' * (self.heading_level - 1) + data.strip())\n"
   ]
  },
  {
   "cell_type": "code",
   "execution_count": 10,
   "id": "69098a85",
   "metadata": {},
   "outputs": [
    {
     "name": "stdout",
     "output_type": "stream",
     "text": [
      "W3C Mission\n",
      " Principles\n"
     ]
    }
   ],
   "source": [
    "infile = open('w3c.html')\n",
    "content = infile.read()\n",
    "infile.close()\n",
    "\n",
    "hp = HeadingParser()\n",
    "hp.feed(content)\n"
   ]
  },
  {
   "cell_type": "markdown",
   "id": "b82a5ab8",
   "metadata": {},
   "source": [
    "<h1> Answer 7</h1>"
   ]
  },
  {
   "cell_type": "code",
   "execution_count": 11,
   "id": "a0f91e31",
   "metadata": {},
   "outputs": [],
   "source": [
    "import requests\n",
    "from bs4 import BeautifulSoup\n",
    "\n",
    "def webdir(url, depth, indent):\n",
    "    # Fetch the HTML content of the URL\n",
    "    response = requests.get(url)\n",
    "    if response.status_code == 200:\n",
    "        soup = BeautifulSoup(response.text, 'html.parser')\n",
    "        \n",
    "        # Print the current URL with appropriate indentation\n",
    "        print(\" \" * indent + url)\n",
    "        \n",
    "        # Check if we reached the maximum depth\n",
    "        if depth == 0:\n",
    "            return\n",
    "        \n",
    "        # Find all links on the current page\n",
    "        links = soup.find_all('a', href=True)\n",
    "        for link in links:\n",
    "            next_url = link['href']\n",
    "            \n",
    "            # Ensure the next URL is absolute\n",
    "            if not next_url.startswith('http'):\n",
    "                next_url = url + next_url\n",
    "                \n",
    "            # Recursively call webdir with the next URL\n",
    "            webdir(next_url, depth - 1, indent + 1)\n",
    "\n",
    "# Test\n",
    "webdir('http://reed.cs.depaul.edu/lperkovic/csc242/test1.html', 2, 0)\n"
   ]
  },
  {
   "cell_type": "markdown",
   "id": "102a43c3",
   "metadata": {},
   "source": [
    "<h1> Answer 8</h1>"
   ]
  },
  {
   "cell_type": "code",
   "execution_count": 24,
   "id": "5b56dcb7",
   "metadata": {},
   "outputs": [],
   "source": [
    "import sqlite3"
   ]
  },
  {
   "cell_type": "code",
   "execution_count": 30,
   "id": "8d396491",
   "metadata": {},
   "outputs": [
    {
     "data": {
      "text/plain": [
       "<sqlite3.Cursor at 0x12530db1650>"
      ]
     },
     "execution_count": 30,
     "metadata": {},
     "output_type": "execute_result"
    }
   ],
   "source": [
    "import sqlite3\n",
    "con = sqlite3.connect('DBfile.db')\n",
    "cur = con.cursor()\n",
    "cur.execute(\"CREATE TABLE record (City text, Country text, Season text,Temperature float,Rainfall float)\")\n",
    "cur.execute(\"INSERT INTO record VALUES ('Mumbai', 'India', 'Winter',24.8,5.9)\")\n",
    "cur.execute(\"INSERT INTO record VALUES ('Mumbai', 'India', 'Spring',28.4,16.2)\")\n",
    "cur.execute(\"INSERT INTO record VALUES ('Mumbai', 'India', 'Summer',27.9,1549.4 )\")\n",
    "cur.execute(\"INSERT INTO record VALUES ('Mumbai', 'India', 'Fall',27.6,346.0)\")\n",
    "cur.execute(\"INSERT INTO record VALUES ('London', 'United Kingdom', 'Winter',4.2,207.7 )\")\n",
    "cur.execute(\"INSERT INTO record VALUES ('London', 'United Kingdom', 'Spring',8.3,169.6)\")\n",
    "cur.execute(\"INSERT INTO record VALUES ('London', 'United Kingdom', 'Summer',15.7,157.0)\")\n",
    "cur.execute(\"INSERT INTO record VALUES ('London', 'United Kingdom', 'Fall',10.4,218.5)\")\n",
    "cur.execute(\"INSERT INTO record VALUES ('Cairo', 'Egypt', 'Winter',13.6,16.5)\")\n",
    "cur.execute(\"INSERT INTO record VALUES ('Cairo', 'Egypt', 'Spring',20.7,6.5)\")\n",
    "cur.execute(\"INSERT INTO record VALUES ('Cairo', 'Egypt', 'Summer',27.7,0.1)\")\n",
    "cur.execute(\"INSERT INTO record VALUES ('Cairo', 'Egypt', 'Fall',22.2,4.5)\")"
   ]
  },
  {
   "cell_type": "markdown",
   "id": "9e8a764a",
   "metadata": {},
   "source": [
    "<h2> a</h2>"
   ]
  },
  {
   "cell_type": "code",
   "execution_count": 31,
   "id": "a9ab1be4",
   "metadata": {},
   "outputs": [
    {
     "data": {
      "text/plain": [
       "[(24.8,),\n",
       " (28.4,),\n",
       " (27.9,),\n",
       " (27.6,),\n",
       " (4.2,),\n",
       " (8.3,),\n",
       " (15.7,),\n",
       " (10.4,),\n",
       " (13.6,),\n",
       " (20.7,),\n",
       " (27.7,),\n",
       " (22.2,)]"
      ]
     },
     "execution_count": 31,
     "metadata": {},
     "output_type": "execute_result"
    }
   ],
   "source": [
    "cur.execute('SELECT temperature FROM record')\n",
    "cur.fetchall()"
   ]
  },
  {
   "cell_type": "markdown",
   "id": "1121d6a1",
   "metadata": {},
   "source": [
    "<h2> b</h2>"
   ]
  },
  {
   "cell_type": "code",
   "execution_count": 32,
   "id": "162cdb9d",
   "metadata": {},
   "outputs": [
    {
     "data": {
      "text/plain": [
       "[('Mumbai',), ('London',), ('Cairo',)]"
      ]
     },
     "execution_count": 32,
     "metadata": {},
     "output_type": "execute_result"
    }
   ],
   "source": [
    "cur.execute('SELECT DISTINCT City FROM record')\n",
    "cur.fetchall()"
   ]
  },
  {
   "cell_type": "markdown",
   "id": "a57c51f1",
   "metadata": {},
   "source": [
    "<h2> c</h2>"
   ]
  },
  {
   "cell_type": "code",
   "execution_count": 33,
   "id": "1d12a0e5",
   "metadata": {},
   "outputs": [
    {
     "data": {
      "text/plain": [
       "[('Mumbai', 'India', 'Winter', 24.8, 5.9),\n",
       " ('Mumbai', 'India', 'Spring', 28.4, 16.2),\n",
       " ('Mumbai', 'India', 'Summer', 27.9, 1549.4),\n",
       " ('Mumbai', 'India', 'Fall', 27.6, 346.0)]"
      ]
     },
     "execution_count": 33,
     "metadata": {},
     "output_type": "execute_result"
    }
   ],
   "source": [
    "cur.execute(\"SELECT * FROM record WHERE Country='India'\")\n",
    "cur.fetchall()"
   ]
  },
  {
   "cell_type": "markdown",
   "id": "bfae9210",
   "metadata": {},
   "source": [
    "<h2>d</h2>"
   ]
  },
  {
   "cell_type": "code",
   "execution_count": 34,
   "id": "e1fdb384",
   "metadata": {},
   "outputs": [
    {
     "data": {
      "text/plain": [
       "[('Mumbai', 'India', 'Fall', 27.6, 346.0),\n",
       " ('London', 'United Kingdom', 'Fall', 10.4, 218.5),\n",
       " ('Cairo', 'Egypt', 'Fall', 22.2, 4.5)]"
      ]
     },
     "execution_count": 34,
     "metadata": {},
     "output_type": "execute_result"
    }
   ],
   "source": [
    "cur.execute(\"SELECT * FROM record WHERE Season='Fall'\")\n",
    "cur.fetchall()"
   ]
  },
  {
   "cell_type": "markdown",
   "id": "58e79503",
   "metadata": {},
   "source": [
    "<h2>e</h2>"
   ]
  },
  {
   "cell_type": "code",
   "execution_count": 35,
   "id": "f68e1fe9",
   "metadata": {},
   "outputs": [
    {
     "data": {
      "text/plain": [
       "[('Mumbai', 'India', 'Fall'),\n",
       " ('London', 'United Kingdom', 'Winter'),\n",
       " ('London', 'United Kingdom', 'Fall')]"
      ]
     },
     "execution_count": 35,
     "metadata": {},
     "output_type": "execute_result"
    }
   ],
   "source": [
    "cur.execute(\"SELECT City,country,Season FROM record WHERE Rainfall BETWEEN 200 AND 400\")\n",
    "cur.fetchall()"
   ]
  },
  {
   "cell_type": "markdown",
   "id": "c23b6d44",
   "metadata": {},
   "source": [
    "<h2>f</h2>"
   ]
  },
  {
   "cell_type": "code",
   "execution_count": 36,
   "id": "ea355011",
   "metadata": {},
   "outputs": [
    {
     "data": {
      "text/plain": [
       "[('Cairo', 'Egypt'), ('Mumbai', 'India')]"
      ]
     },
     "execution_count": 36,
     "metadata": {},
     "output_type": "execute_result"
    }
   ],
   "source": [
    "cur.execute(\"SELECT City,country FROM record WHERE Season='Fall' AND temperature > 20 ORDER BY temperature ASC\")\n",
    "cur.fetchall()"
   ]
  },
  {
   "cell_type": "markdown",
   "id": "3577cf8d",
   "metadata": {},
   "source": [
    "<h2>g</h2>"
   ]
  },
  {
   "cell_type": "code",
   "execution_count": 37,
   "id": "fae68881",
   "metadata": {},
   "outputs": [
    {
     "data": {
      "text/plain": [
       "[(27.6,)]"
      ]
     },
     "execution_count": 37,
     "metadata": {},
     "output_type": "execute_result"
    }
   ],
   "source": [
    "cur.execute(\"SELECT SUM(Rainfall) FROM record WHERE City='Cairo'\")\n",
    "cur.fetchall()"
   ]
  },
  {
   "cell_type": "markdown",
   "id": "71e6e776",
   "metadata": {},
   "source": [
    "<h2>h</h2>"
   ]
  },
  {
   "cell_type": "code",
   "execution_count": 39,
   "id": "3653cd47",
   "metadata": {},
   "outputs": [
    {
     "data": {
      "text/plain": [
       "[(569.0,), (192.29999999999998,), (1706.5,), (230.1,)]"
      ]
     },
     "execution_count": 39,
     "metadata": {},
     "output_type": "execute_result"
    }
   ],
   "source": [
    "cur.execute(\"SELECT SUM(Rainfall) FROM record GROUP BY Season\")\n",
    "cur.fetchall()"
   ]
  },
  {
   "cell_type": "markdown",
   "id": "1dcc252f",
   "metadata": {},
   "source": [
    "<h1> Answer 9</h1>"
   ]
  },
  {
   "cell_type": "code",
   "execution_count": 40,
   "id": "0aa7063c",
   "metadata": {},
   "outputs": [],
   "source": [
    "words = ['The', 'quick', 'brown', 'fox', 'jumps', 'over', 'the', 'lazy', 'dog']"
   ]
  },
  {
   "cell_type": "markdown",
   "id": "410463cb",
   "metadata": {},
   "source": [
    "<h2>a</h2>"
   ]
  },
  {
   "cell_type": "code",
   "execution_count": 45,
   "id": "fecf9237",
   "metadata": {},
   "outputs": [
    {
     "name": "stdout",
     "output_type": "stream",
     "text": [
      "['THE', 'QUICK', 'BROWN', 'FOX', 'JUMPS', 'OVER', 'THE', 'LAZY', 'DOG']\n"
     ]
    }
   ],
   "source": [
    "print([x.upper() for x in words])"
   ]
  },
  {
   "cell_type": "markdown",
   "id": "fe45eb45",
   "metadata": {},
   "source": [
    "<h2>b</h2>"
   ]
  },
  {
   "cell_type": "code",
   "execution_count": 47,
   "id": "e56d2b24",
   "metadata": {},
   "outputs": [
    {
     "name": "stdout",
     "output_type": "stream",
     "text": [
      "['the', 'quick', 'brown', 'fox', 'jumps', 'over', 'the', 'lazy', 'dog']\n"
     ]
    }
   ],
   "source": [
    "print([x.lower() for x in words])"
   ]
  },
  {
   "cell_type": "markdown",
   "id": "be13fdc1",
   "metadata": {},
   "source": [
    "<h2>c</h2>"
   ]
  },
  {
   "cell_type": "code",
   "execution_count": 48,
   "id": "5d6bfeb8",
   "metadata": {},
   "outputs": [
    {
     "name": "stdout",
     "output_type": "stream",
     "text": [
      "[3, 5, 5, 3, 5, 4, 3, 4, 3]\n"
     ]
    }
   ],
   "source": [
    "print([len(x) for x in words])"
   ]
  },
  {
   "cell_type": "markdown",
   "id": "db5d27de",
   "metadata": {},
   "source": [
    "<h2>d</h2>"
   ]
  },
  {
   "cell_type": "code",
   "execution_count": 50,
   "id": "b5b9d53d",
   "metadata": {},
   "outputs": [
    {
     "name": "stdout",
     "output_type": "stream",
     "text": [
      "[['THE', 'the', 3], ['QUICK', 'quick', 5], ['BROWN', 'brown', 5], ['FOX', 'fox', 3], ['JUMPS', 'jumps', 5], ['OVER', 'over', 4], ['THE', 'the', 3], ['LAZY', 'lazy', 4], ['DOG', 'dog', 3]]\n"
     ]
    }
   ],
   "source": [
    "print([[x.upper(), x.lower(), len(x)] for x in words])"
   ]
  },
  {
   "cell_type": "markdown",
   "id": "1fb5942e",
   "metadata": {},
   "source": [
    "<h2>e</h2>"
   ]
  },
  {
   "cell_type": "code",
   "execution_count": 51,
   "id": "88450d7e",
   "metadata": {},
   "outputs": [
    {
     "name": "stdout",
     "output_type": "stream",
     "text": [
      "['quick', 'brown', 'jumps', 'over', 'lazy']\n"
     ]
    }
   ],
   "source": [
    "print([x for x in words if len(x)>=4])"
   ]
  }
 ],
 "metadata": {
  "kernelspec": {
   "display_name": "Python 3 (ipykernel)",
   "language": "python",
   "name": "python3"
  },
  "language_info": {
   "codemirror_mode": {
    "name": "ipython",
    "version": 3
   },
   "file_extension": ".py",
   "mimetype": "text/x-python",
   "name": "python",
   "nbconvert_exporter": "python",
   "pygments_lexer": "ipython3",
   "version": "3.9.13"
  }
 },
 "nbformat": 4,
 "nbformat_minor": 5
}
